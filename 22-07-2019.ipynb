{
 "cells": [
  {
   "cell_type": "markdown",
   "metadata": {},
   "source": [
    "### Seven segment display"
   ]
  },
  {
   "cell_type": "code",
   "execution_count": 27,
   "metadata": {},
   "outputs": [
    {
     "name": "stdout",
     "output_type": "stream",
     "text": [
      "100\n",
      "0 1 2 3 4 5 6 7 8 9 10 11 12 13 14 15 16 17 18 19 20 21 22 23 24 25 26 27 28 29 30 31 32 33 34 35 36 37 38 39 40 41 42 43 44 45 46 47 48 49 50 51 52 53 54 55 56 57 58 59 60 61 62 63 64 65 66 67 68 69 70 71 72 73 74 75 76 77 78 79 80 81 82 83 84 85 86 87 88 89 90 91 92 93 94 95 96 97 98 99\n"
     ]
    },
    {
     "ename": "ValueError",
     "evalue": "invalid literal for int() with base 10: '0 1 2 3 4 5 6 7 8 9 10 11 12 13 14 15 16 17 18 19 20 21 22 23 24 25 26 27 28 29 30 31 32 33 34 35 36 37 38 39 40 41 42 43 44 45 46 47 48 49 50 51 52 53 54 55 56 57 58 59 60 61 62 63 64 65 66 67 68 69",
     "output_type": "error",
     "traceback": [
      "\u001b[1;31m---------------------------------------------------------------------------\u001b[0m",
      "\u001b[1;31mValueError\u001b[0m                                Traceback (most recent call last)",
      "\u001b[1;32m<ipython-input-27-e35b49b7a6db>\u001b[0m in \u001b[0;36m<module>\u001b[1;34m\u001b[0m\n\u001b[0;32m     18\u001b[0m \u001b[0mt\u001b[0m\u001b[1;33m=\u001b[0m\u001b[0mint\u001b[0m\u001b[1;33m(\u001b[0m\u001b[0minput\u001b[0m\u001b[1;33m(\u001b[0m\u001b[1;33m)\u001b[0m\u001b[1;33m)\u001b[0m\u001b[1;33m\u001b[0m\u001b[1;33m\u001b[0m\u001b[0m\n\u001b[0;32m     19\u001b[0m \u001b[1;32mfor\u001b[0m \u001b[0mi\u001b[0m \u001b[1;32min\u001b[0m \u001b[0mrange\u001b[0m\u001b[1;33m(\u001b[0m\u001b[0mt\u001b[0m\u001b[1;33m)\u001b[0m\u001b[1;33m:\u001b[0m\u001b[1;33m\u001b[0m\u001b[1;33m\u001b[0m\u001b[0m\n\u001b[1;32m---> 20\u001b[1;33m     \u001b[0mn\u001b[0m\u001b[1;33m=\u001b[0m\u001b[0mint\u001b[0m\u001b[1;33m(\u001b[0m\u001b[0minput\u001b[0m\u001b[1;33m(\u001b[0m\u001b[1;33m)\u001b[0m\u001b[1;33m)\u001b[0m\u001b[1;33m\u001b[0m\u001b[1;33m\u001b[0m\u001b[0m\n\u001b[0m\u001b[0;32m     21\u001b[0m     \u001b[0msevensegment\u001b[0m\u001b[1;33m(\u001b[0m\u001b[1;33m)\u001b[0m\u001b[1;33m\u001b[0m\u001b[1;33m\u001b[0m\u001b[0m\n",
      "\u001b[1;31mValueError\u001b[0m: invalid literal for int() with base 10: '0 1 2 3 4 5 6 7 8 9 10 11 12 13 14 15 16 17 18 19 20 21 22 23 24 25 26 27 28 29 30 31 32 33 34 35 36 37 38 39 40 41 42 43 44 45 46 47 48 49 50 51 52 53 54 55 56 57 58 59 60 61 62 63 64 65 66 67 68 69"
     ]
    }
   ],
   "source": [
    "def sevensegment():\n",
    "    d={0:6,1:2,2:5,3:5,4:4,5:5,6:6,7:3,8:7,9:6}\n",
    "    l=[6,2,5,5,4,5,6,3,7,6]\n",
    "    l1=[]\n",
    "    for k,v in d.items():\n",
    "        if n==k:\n",
    "            value=v\n",
    "            if value%2!=0:\n",
    "                print(k)\n",
    "            else:\n",
    "                if value==6:\n",
    "                    print(\"111\")\n",
    "                elif value==2:\n",
    "                    print(\"1\")\n",
    "                elif value==4:\n",
    "                    print(\"11\")\n",
    "\n",
    "t=int(input())\n",
    "for i in range(t):\n",
    "    n=int(input())\n",
    "    sevensegment()"
   ]
  },
  {
   "cell_type": "markdown",
   "metadata": {},
   "source": [
    "### Monk and the box of cookies"
   ]
  },
  {
   "cell_type": "code",
   "execution_count": 11,
   "metadata": {},
   "outputs": [
    {
     "name": "stdout",
     "output_type": "stream",
     "text": [
      "1\n",
      "4\n",
      "2\n",
      "4\n",
      "2\n",
      "8\n",
      "1\n"
     ]
    }
   ],
   "source": [
    "for t in range(int(input())):\n",
    "    c=[0]*32\n",
    "    for n in range(int(input())):\n",
    "        r=\"0\"*32\n",
    "        b=int(input())\n",
    "        binary=bin(b)[2:]\n",
    "        r=r[len(binary):]+binary\n",
    "        for i in range(32):\n",
    "            if r[i]==\"1\":\n",
    "                c[i]+=1\n",
    "    out=c[::-1]\n",
    "    print(out.index(max(out)))\n",
    "\n",
    "    \n",
    "            \n",
    "    \n",
    "        \n",
    "        \n",
    "        \n",
    "        \n",
    "    "
   ]
  },
  {
   "cell_type": "markdown",
   "metadata": {},
   "source": [
    "### Castle Gate"
   ]
  },
  {
   "cell_type": "code",
   "execution_count": 29,
   "metadata": {},
   "outputs": [
    {
     "name": "stdout",
     "output_type": "stream",
     "text": [
      "1\n",
      "4\n",
      "3\n"
     ]
    }
   ],
   "source": [
    "t=int(input())\n",
    "for k in range(t):\n",
    "    n=int(input())\n",
    "    #binary=bin(n)[2:]\n",
    "    count=0\n",
    "   \n",
    "    for i in range(1,n):\n",
    "        for j in range(i+1,n+1):\n",
    "            if i^j<=n:\n",
    "                count+=1\n",
    "    print(count)\n",
    "                \n",
    "        \n",
    "\n",
    "\n",
    "    \n",
    "    \n"
   ]
  },
  {
   "cell_type": "markdown",
   "metadata": {},
   "source": [
    "### Hihi and Crazy Bits"
   ]
  },
  {
   "cell_type": "code",
   "execution_count": null,
   "metadata": {},
   "outputs": [],
   "source": [
    "t=int(input())\n",
    "for i in range(t):\n",
    "    n=int(input())\n",
    "    binary=bin(n)[2:]\n",
    "    if n%2==0:\n",
    "        print(n+1)\n",
    "    else:\n",
    "        b=list(map(int,binary))[::-1]\n",
    "        b[b.index(0)]=b[b.index(0)]^1\n",
    "        k=(\"\".join(map(str,b)))\n",
    "        print(int(k,2))\n"
   ]
  },
  {
   "cell_type": "markdown",
   "metadata": {},
   "source": [
    "### Helping the roomate"
   ]
  },
  {
   "cell_type": "code",
   "execution_count": null,
   "metadata": {},
   "outputs": [],
   "source": [
    "for i in range(int(input())):\n",
    "    n=int(input())\n",
    "    binary=bin(n)[2:]\n",
    "    print(binary.count(\"1\"))"
   ]
  },
  {
   "cell_type": "markdown",
   "metadata": {},
   "source": [
    "### Rajan and odd frequency number"
   ]
  },
  {
   "cell_type": "code",
   "execution_count": null,
   "metadata": {},
   "outputs": [],
   "source": [
    "t=int(input())\n",
    "n=list(map(int,input().split()))\n",
    "d={}\n",
    "for i in range(len(n)):\n",
    "    if n[i] in d:\n",
    "        d[n[i]]+=1\n",
    "    else:\n",
    "        d[n[i]]=1\n",
    "for k,v in d.items():\n",
    "    if v%2==1:\n",
    "        print(k)"
   ]
  },
  {
   "cell_type": "markdown",
   "metadata": {},
   "source": [
    "### Mystery"
   ]
  },
  {
   "cell_type": "code",
   "execution_count": null,
   "metadata": {},
   "outputs": [],
   "source": [
    "while True:\n",
    "    try:\n",
    "        n=int(input())\n",
    "        binary=bin(n)[2:]\n",
    "        print(binary.count(\"1\"))\n",
    "    except:\n",
    "        break"
   ]
  },
  {
   "cell_type": "markdown",
   "metadata": {},
   "source": []
  },
  {
   "cell_type": "code",
   "execution_count": null,
   "metadata": {},
   "outputs": [],
   "source": [
    "while True:\n",
    "    try:\n",
    "        n=int(input())\n",
    "        binary=bin(n)[2:]\n",
    "        b1=binary[::-1]\n",
    "        for i in range(len(b1)):\n",
    "            if b1[i]==\"1\":\n",
    "                print(2**i)\n",
    "    except:\n",
    "        break"
   ]
  },
  {
   "cell_type": "markdown",
   "metadata": {},
   "source": [
    "### Monks and tasks"
   ]
  },
  {
   "cell_type": "code",
   "execution_count": 6,
   "metadata": {},
   "outputs": [
    {
     "name": "stdout",
     "output_type": "stream",
     "text": [
      "1\n",
      "4\n",
      "3 4 7 10\n",
      "dict_items([(3, 2)])\n",
      "dict_items([(3, 2), (4, 1)])\n",
      "dict_items([(3, 2), (4, 1), (7, 3)])\n",
      "dict_items([(3, 2), (4, 1), (7, 3), (10, 2)])\n"
     ]
    }
   ],
   "source": [
    "for i in range(int(input())):\n",
    "    s=int(input())\n",
    "    n=list(map(int,input().split()))\n",
    "    d={}\n",
    "    for k in range(len(n)):\n",
    "        binary=bin(n[k])[2:]\n",
    "        #count1=binary.count(\"1\")\n",
    "        d[binary.count(\"1\")]=n[k]\n",
    "    print()\n",
    "    \n",
    "       "
   ]
  },
  {
   "cell_type": "markdown",
   "metadata": {},
   "source": []
  }
 ],
 "metadata": {
  "kernelspec": {
   "display_name": "Python 3",
   "language": "python",
   "name": "python3"
  },
  "language_info": {
   "codemirror_mode": {
    "name": "ipython",
    "version": 3
   },
   "file_extension": ".py",
   "mimetype": "text/x-python",
   "name": "python",
   "nbconvert_exporter": "python",
   "pygments_lexer": "ipython3",
   "version": "3.7.3"
  }
 },
 "nbformat": 4,
 "nbformat_minor": 2
}
