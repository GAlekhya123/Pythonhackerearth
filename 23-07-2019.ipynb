{
 "cells": [
  {
   "cell_type": "markdown",
   "metadata": {},
   "source": [
    "### Moncks and tasks"
   ]
  },
  {
   "cell_type": "code",
   "execution_count": 12,
   "metadata": {},
   "outputs": [
    {
     "name": "stdout",
     "output_type": "stream",
     "text": [
      "1\n",
      "4\n",
      "3 4 7 10\n",
      "4 3 10 7\n"
     ]
    }
   ],
   "source": [
    "#One Line Python Solution (If you exclude input lines)-\n",
    "t = int(input())\n",
    "for i in range(t):\n",
    "    n = int(input())\n",
    "    print(\" \".join(map(str, sorted(map(int,input().split()), key=lambda x: bin(x)[2:].count(\"1\")))))"
   ]
  },
  {
   "cell_type": "code",
   "execution_count": 30,
   "metadata": {},
   "outputs": [
    {
     "data": {
      "text/plain": [
       "1"
      ]
     },
     "execution_count": 30,
     "metadata": {},
     "output_type": "execute_result"
    }
   ],
   "source": [
    "\n",
    "k=lambda x: bin(x)[2:].count(\"1\")\n",
    "k(4)\n"
   ]
  },
  {
   "cell_type": "code",
   "execution_count": 29,
   "metadata": {},
   "outputs": [
    {
     "data": {
      "text/plain": [
       "5"
      ]
     },
     "execution_count": 29,
     "metadata": {},
     "output_type": "execute_result"
    }
   ],
   "source": [
    "x=3\n",
    "k=lambda x:x+2\n",
    "k(3)"
   ]
  },
  {
   "cell_type": "markdown",
   "metadata": {},
   "source": [
    "   ### To find mininum value "
   ]
  },
  {
   "cell_type": "code",
   "execution_count": 90,
   "metadata": {},
   "outputs": [
    {
     "name": "stdout",
     "output_type": "stream",
     "text": [
      "-5\n"
     ]
    }
   ],
   "source": [
    "a=[89,2,3,-5]\n",
    "minv=a[0]\n",
    "for i in a:\n",
    "    if minv>i:\n",
    "        minv=i\n",
    "print(minv)\n",
    "        \n",
    "       "
   ]
  },
  {
   "cell_type": "markdown",
   "metadata": {},
   "source": [
    "### Sherlock and xor"
   ]
  },
  {
   "cell_type": "code",
   "execution_count": 92,
   "metadata": {},
   "outputs": [
    {
     "name": "stdout",
     "output_type": "stream",
     "text": [
      "1\n",
      "3\n",
      "1 2 3\n",
      "2\n"
     ]
    }
   ],
   "source": [
    "t=int(input())\n",
    "for i in range(t):\n",
    "    n=int(input())\n",
    "    N=list(map(int,input().split()))\n",
    "    l=[]\n",
    "    l1=[]\n",
    "    for values in N:\n",
    "        if values%2==0:\n",
    "            l.append(values)\n",
    "        else:\n",
    "            l1.append(values)\n",
    "    print(len(l)*len(l1))"
   ]
  },
  {
   "cell_type": "markdown",
   "metadata": {},
   "source": [
    "### Poisionus gas"
   ]
  },
  {
   "cell_type": "code",
   "execution_count": 97,
   "metadata": {},
   "outputs": [
    {
     "name": "stdout",
     "output_type": "stream",
     "text": [
      "2\n",
      "5\n",
      "76 56 -21 76 -45\n",
      "NO\n",
      "2\n",
      "8 -4\n",
      "YES\n"
     ]
    }
   ],
   "source": [
    "t=int(input())\n",
    "for i in range(t):\n",
    "    n=int(input())\n",
    "    array=list(map(int,input().split()))\n",
    "    s=0\n",
    "    for j in array:\n",
    "        if j>0:\n",
    "            s=j+s\n",
    "    h=0\n",
    "    flag=True\n",
    "    while s>=(2**h):\n",
    "        if s==2**h:\n",
    "            flag=False\n",
    "        h+=1\n",
    "    if flag==False:\n",
    "        print(\"YES\")\n",
    "    else:\n",
    "        print(\"NO\")\n",
    "    "
   ]
  },
  {
   "cell_type": "markdown",
   "metadata": {},
   "source": [
    "### Xsquare and substrings"
   ]
  },
  {
   "cell_type": "code",
   "execution_count": 100,
   "metadata": {},
   "outputs": [
    {
     "name": "stdout",
     "output_type": "stream",
     "text": [
      "2\n",
      "phackerekarthj\n",
      "jhakckerearthp\n",
      "Yes\n",
      "hello\n",
      "buy\n",
      "No\n"
     ]
    }
   ],
   "source": [
    "t=int(input())\n",
    "for i in range(t):\n",
    "    s1=input()\n",
    "    s2=input()\n",
    "    f=False\n",
    "    if len(s1)<len(s2):\n",
    "        for i in s1:\n",
    "            if i in s2:\n",
    "                f=True\n",
    "    else:\n",
    "        for j in s2:\n",
    "            if j in s1:\n",
    "                f=True\n",
    "    if f:\n",
    "        print(\"Yes\")\n",
    "    else:\n",
    "        print(\"No\")\n",
    "                \n",
    "    \n",
    "            \n"
   ]
  },
  {
   "cell_type": "markdown",
   "metadata": {},
   "source": [
    "### Player of next match"
   ]
  },
  {
   "cell_type": "code",
   "execution_count": 139,
   "metadata": {},
   "outputs": [
    {
     "name": "stdout",
     "output_type": "stream",
     "text": [
      "2\n"
     ]
    }
   ],
   "source": [
    "for cases in range(int(input())):\n",
    "    length = int(input())\n",
    "    data = list(map(int,input().split()))\n",
    "    total = 0\n",
    "    for digit in data:\n",
    "        try:\n",
    "            idx = (bin(digit)[2:])[::-1].index('1')\n",
    "           #print(idx)\n",
    "            total += (2**idx)\n",
    "        except:\n",
    "            continue\n",
    "    print(total)"
   ]
  },
  {
   "cell_type": "markdown",
   "metadata": {},
   "source": [
    "### Power 2"
   ]
  },
  {
   "cell_type": "code",
   "execution_count": null,
   "metadata": {},
   "outputs": [],
   "source": [
    "c=0\n",
    "n=int(input())\n",
    "for j in range(n):\n",
    "    k=int(input())\n",
    "    i=0\n",
    "    while k>=2**i:\n",
    "        if 2**i==k:\n",
    "            c+=1\n",
    "        i+=1\n",
    "print(c)"
   ]
  },
  {
   "cell_type": "markdown",
   "metadata": {},
   "source": [
    "### Aaryan, Subsequences And Great XOR"
   ]
  },
  {
   "cell_type": "code",
   "execution_count": null,
   "metadata": {},
   "outputs": [],
   "source": [
    "t=int(input())\n",
    "n=list(map(int,input().split()))\n",
    "r=0\n",
    "for i in range(t-1):\n",
    "    r|=n[i]|n[i+1]\n",
    "print(r)"
   ]
  },
  {
   "cell_type": "markdown",
   "metadata": {},
   "source": []
  },
  {
   "cell_type": "code",
   "execution_count": null,
   "metadata": {},
   "outputs": [],
   "source": [
    "\n"
   ]
  },
  {
   "cell_type": "code",
   "execution_count": null,
   "metadata": {},
   "outputs": [],
   "source": []
  }
 ],
 "metadata": {
  "kernelspec": {
   "display_name": "Python 3",
   "language": "python",
   "name": "python3"
  },
  "language_info": {
   "codemirror_mode": {
    "name": "ipython",
    "version": 3
   },
   "file_extension": ".py",
   "mimetype": "text/x-python",
   "name": "python",
   "nbconvert_exporter": "python",
   "pygments_lexer": "ipython3",
   "version": "3.7.3"
  }
 },
 "nbformat": 4,
 "nbformat_minor": 2
}
